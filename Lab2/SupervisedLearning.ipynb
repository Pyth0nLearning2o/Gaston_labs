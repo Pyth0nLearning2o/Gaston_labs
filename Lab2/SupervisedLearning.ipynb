{
    "metadata": {
        "kernelspec": {
            "name": "python3",
            "display_name": "Python 3 (ipykernel)",
            "language": "python"
        }
    },
    "nbformat": 4,
    "nbformat_minor": 2,
    "cells": [
        {
            "attachments": {},
            "cell_type": "markdown",
            "metadata": {},
            "source": [
                "This code is an introduction to supervised learning solving a classification problem using **decision trees**.\n",
                "It follows [this tutorial](https://youtu.be/7eh4d6sabA0). "
            ]
        },
        {
            "attachments": {},
            "cell_type": "markdown",
            "metadata": {},
            "source": [
                "# **Classification Problem**\n",
                "We will follow these steps of solving a machine learning problem.\n",
                "\n",
                "\n",
                "1. Import the Data\n",
                "2. Clean the Data\n",
                "3. split the Data into Training/ Test steps\n",
                "4. Create a Model\n",
                "5. Train the Model\n",
                "6. Make Predictions\n",
                "7. Evaluate and improve\n",
                ""
            ]
        },
        {
            "attachments": {},
            "cell_type": "markdown",
            "metadata": {},
            "source": [
                "# Problem description\n",
                "Enter in the text cell below what you will be predicting in this classification problem (y) and which columns will be used in the prediction (X)"
            ]
        },
        {
            "attachments": {},
            "cell_type": "markdown",
            "metadata": {},
            "source": [
                ""
            ]
        },
        {
            "cell_type": "code",
            "execution_count": 14,
            "metadata": {},
            "outputs": [],
            "source": [
                "import pandas as pd\n",
                "from sklearn.tree import DecisionTreeClassifier\n",
                "from sklearn.model_selection import train_test_split\n",
                "from sklearn.metrics import accuracy_score\n",
                "import joblib\n",
                "from sklearn import tree"
            ]
        },
        {
            "attachments": {},
            "cell_type": "markdown",
            "metadata": {},
            "source": [
                "1. Import the Data."
            ]
        },
        {
            "cell_type": "code",
            "execution_count": 15,
            "metadata": {},
            "outputs": [
                {
                    "ename": "UnicodeDecodeError",
                    "evalue": "'utf-8' codec can't decode byte 0xeb in position 14: invalid continuation byte",
                    "output_type": "error",
                    "traceback": [
                        "\u001b[0;31m---------------------------------------------------------------------------\u001b[0m",
                        "\u001b[0;31mUnicodeDecodeError\u001b[0m                        Traceback (most recent call last)",
                        "\u001b[0;32m/tmp/ipykernel_156/3336445374.py\u001b[0m in \u001b[0;36m\u003cmodule\u003e\u001b[0;34m\u001b[0m\n\u001b[0;32m----\u003e 1\u001b[0;31m \u001b[0mdf\u001b[0m \u001b[0;34m=\u001b[0m \u001b[0mpd\u001b[0m\u001b[0;34m.\u001b[0m\u001b[0mread_csv\u001b[0m\u001b[0;34m(\u001b[0m\u001b[0;34m'cleanedfile.csv'\u001b[0m\u001b[0;34m)\u001b[0m\u001b[0;34m\u001b[0m\u001b[0;34m\u001b[0m\u001b[0m\n\u001b[0m",
                        "\u001b[0;32m/usr/lib/python3.9/site-packages/pandas/util/_decorators.py\u001b[0m in \u001b[0;36mwrapper\u001b[0;34m(*args, **kwargs)\u001b[0m\n\u001b[1;32m    309\u001b[0m                     \u001b[0mstacklevel\u001b[0m\u001b[0;34m=\u001b[0m\u001b[0mstacklevel\u001b[0m\u001b[0;34m,\u001b[0m\u001b[0;34m\u001b[0m\u001b[0;34m\u001b[0m\u001b[0m\n\u001b[1;32m    310\u001b[0m                 )\n\u001b[0;32m--\u003e 311\u001b[0;31m             \u001b[0;32mreturn\u001b[0m \u001b[0mfunc\u001b[0m\u001b[0;34m(\u001b[0m\u001b[0;34m*\u001b[0m\u001b[0margs\u001b[0m\u001b[0;34m,\u001b[0m \u001b[0;34m**\u001b[0m\u001b[0mkwargs\u001b[0m\u001b[0;34m)\u001b[0m\u001b[0;34m\u001b[0m\u001b[0;34m\u001b[0m\u001b[0m\n\u001b[0m\u001b[1;32m    312\u001b[0m \u001b[0;34m\u001b[0m\u001b[0m\n\u001b[1;32m    313\u001b[0m         \u001b[0;32mreturn\u001b[0m \u001b[0mwrapper\u001b[0m\u001b[0;34m\u001b[0m\u001b[0;34m\u001b[0m\u001b[0m\n",
                        "\u001b[0;32m/usr/lib/python3.9/site-packages/pandas/io/parsers/readers.py\u001b[0m in \u001b[0;36mread_csv\u001b[0;34m(filepath_or_buffer, sep, delimiter, header, names, index_col, usecols, squeeze, prefix, mangle_dupe_cols, dtype, engine, converters, true_values, false_values, skipinitialspace, skiprows, skipfooter, nrows, na_values, keep_default_na, na_filter, verbose, skip_blank_lines, parse_dates, infer_datetime_format, keep_date_col, date_parser, dayfirst, cache_dates, iterator, chunksize, compression, thousands, decimal, lineterminator, quotechar, quoting, doublequote, escapechar, comment, encoding, encoding_errors, dialect, error_bad_lines, warn_bad_lines, on_bad_lines, delim_whitespace, low_memory, memory_map, float_precision, storage_options)\u001b[0m\n\u001b[1;32m    584\u001b[0m     \u001b[0mkwds\u001b[0m\u001b[0;34m.\u001b[0m\u001b[0mupdate\u001b[0m\u001b[0;34m(\u001b[0m\u001b[0mkwds_defaults\u001b[0m\u001b[0;34m)\u001b[0m\u001b[0;34m\u001b[0m\u001b[0;34m\u001b[0m\u001b[0m\n\u001b[1;32m    585\u001b[0m \u001b[0;34m\u001b[0m\u001b[0m\n\u001b[0;32m--\u003e 586\u001b[0;31m     \u001b[0;32mreturn\u001b[0m \u001b[0m_read\u001b[0m\u001b[0;34m(\u001b[0m\u001b[0mfilepath_or_buffer\u001b[0m\u001b[0;34m,\u001b[0m \u001b[0mkwds\u001b[0m\u001b[0;34m)\u001b[0m\u001b[0;34m\u001b[0m\u001b[0;34m\u001b[0m\u001b[0m\n\u001b[0m\u001b[1;32m    587\u001b[0m \u001b[0;34m\u001b[0m\u001b[0m\n\u001b[1;32m    588\u001b[0m \u001b[0;34m\u001b[0m\u001b[0m\n",
                        "\u001b[0;32m/usr/lib/python3.9/site-packages/pandas/io/parsers/readers.py\u001b[0m in \u001b[0;36m_read\u001b[0;34m(filepath_or_buffer, kwds)\u001b[0m\n\u001b[1;32m    480\u001b[0m \u001b[0;34m\u001b[0m\u001b[0m\n\u001b[1;32m    481\u001b[0m     \u001b[0;31m# Create the parser.\u001b[0m\u001b[0;34m\u001b[0m\u001b[0;34m\u001b[0m\u001b[0m\n\u001b[0;32m--\u003e 482\u001b[0;31m     \u001b[0mparser\u001b[0m \u001b[0;34m=\u001b[0m \u001b[0mTextFileReader\u001b[0m\u001b[0;34m(\u001b[0m\u001b[0mfilepath_or_buffer\u001b[0m\u001b[0;34m,\u001b[0m \u001b[0;34m**\u001b[0m\u001b[0mkwds\u001b[0m\u001b[0;34m)\u001b[0m\u001b[0;34m\u001b[0m\u001b[0;34m\u001b[0m\u001b[0m\n\u001b[0m\u001b[1;32m    483\u001b[0m \u001b[0;34m\u001b[0m\u001b[0m\n\u001b[1;32m    484\u001b[0m     \u001b[0;32mif\u001b[0m \u001b[0mchunksize\u001b[0m \u001b[0;32mor\u001b[0m \u001b[0miterator\u001b[0m\u001b[0;34m:\u001b[0m\u001b[0;34m\u001b[0m\u001b[0;34m\u001b[0m\u001b[0m\n",
                        "\u001b[0;32m/usr/lib/python3.9/site-packages/pandas/io/parsers/readers.py\u001b[0m in \u001b[0;36m__init__\u001b[0;34m(self, f, engine, **kwds)\u001b[0m\n\u001b[1;32m    809\u001b[0m             \u001b[0mself\u001b[0m\u001b[0;34m.\u001b[0m\u001b[0moptions\u001b[0m\u001b[0;34m[\u001b[0m\u001b[0;34m\"has_index_names\"\u001b[0m\u001b[0;34m]\u001b[0m \u001b[0;34m=\u001b[0m \u001b[0mkwds\u001b[0m\u001b[0;34m[\u001b[0m\u001b[0;34m\"has_index_names\"\u001b[0m\u001b[0;34m]\u001b[0m\u001b[0;34m\u001b[0m\u001b[0;34m\u001b[0m\u001b[0m\n\u001b[1;32m    810\u001b[0m \u001b[0;34m\u001b[0m\u001b[0m\n\u001b[0;32m--\u003e 811\u001b[0;31m         \u001b[0mself\u001b[0m\u001b[0;34m.\u001b[0m\u001b[0m_engine\u001b[0m \u001b[0;34m=\u001b[0m \u001b[0mself\u001b[0m\u001b[0;34m.\u001b[0m\u001b[0m_make_engine\u001b[0m\u001b[0;34m(\u001b[0m\u001b[0mself\u001b[0m\u001b[0;34m.\u001b[0m\u001b[0mengine\u001b[0m\u001b[0;34m)\u001b[0m\u001b[0;34m\u001b[0m\u001b[0;34m\u001b[0m\u001b[0m\n\u001b[0m\u001b[1;32m    812\u001b[0m \u001b[0;34m\u001b[0m\u001b[0m\n\u001b[1;32m    813\u001b[0m     \u001b[0;32mdef\u001b[0m \u001b[0mclose\u001b[0m\u001b[0;34m(\u001b[0m\u001b[0mself\u001b[0m\u001b[0;34m)\u001b[0m\u001b[0;34m:\u001b[0m\u001b[0;34m\u001b[0m\u001b[0;34m\u001b[0m\u001b[0m\n",
                        "\u001b[0;32m/usr/lib/python3.9/site-packages/pandas/io/parsers/readers.py\u001b[0m in \u001b[0;36m_make_engine\u001b[0;34m(self, engine)\u001b[0m\n\u001b[1;32m   1038\u001b[0m             )\n\u001b[1;32m   1039\u001b[0m         \u001b[0;31m# error: Too many arguments for \"ParserBase\"\u001b[0m\u001b[0;34m\u001b[0m\u001b[0;34m\u001b[0m\u001b[0m\n\u001b[0;32m-\u003e 1040\u001b[0;31m         \u001b[0;32mreturn\u001b[0m \u001b[0mmapping\u001b[0m\u001b[0;34m[\u001b[0m\u001b[0mengine\u001b[0m\u001b[0;34m]\u001b[0m\u001b[0;34m(\u001b[0m\u001b[0mself\u001b[0m\u001b[0;34m.\u001b[0m\u001b[0mf\u001b[0m\u001b[0;34m,\u001b[0m \u001b[0;34m**\u001b[0m\u001b[0mself\u001b[0m\u001b[0;34m.\u001b[0m\u001b[0moptions\u001b[0m\u001b[0;34m)\u001b[0m  \u001b[0;31m# type: ignore[call-arg]\u001b[0m\u001b[0;34m\u001b[0m\u001b[0;34m\u001b[0m\u001b[0m\n\u001b[0m\u001b[1;32m   1041\u001b[0m \u001b[0;34m\u001b[0m\u001b[0m\n\u001b[1;32m   1042\u001b[0m     \u001b[0;32mdef\u001b[0m \u001b[0m_failover_to_python\u001b[0m\u001b[0;34m(\u001b[0m\u001b[0mself\u001b[0m\u001b[0;34m)\u001b[0m\u001b[0;34m:\u001b[0m\u001b[0;34m\u001b[0m\u001b[0;34m\u001b[0m\u001b[0m\n",
                        "\u001b[0;32m/usr/lib/python3.9/site-packages/pandas/io/parsers/c_parser_wrapper.py\u001b[0m in \u001b[0;36m__init__\u001b[0;34m(self, src, **kwds)\u001b[0m\n\u001b[1;32m     67\u001b[0m         \u001b[0mkwds\u001b[0m\u001b[0;34m[\u001b[0m\u001b[0;34m\"dtype\"\u001b[0m\u001b[0;34m]\u001b[0m \u001b[0;34m=\u001b[0m \u001b[0mensure_dtype_objs\u001b[0m\u001b[0;34m(\u001b[0m\u001b[0mkwds\u001b[0m\u001b[0;34m.\u001b[0m\u001b[0mget\u001b[0m\u001b[0;34m(\u001b[0m\u001b[0;34m\"dtype\"\u001b[0m\u001b[0;34m,\u001b[0m \u001b[0;32mNone\u001b[0m\u001b[0;34m)\u001b[0m\u001b[0;34m)\u001b[0m\u001b[0;34m\u001b[0m\u001b[0;34m\u001b[0m\u001b[0m\n\u001b[1;32m     68\u001b[0m         \u001b[0;32mtry\u001b[0m\u001b[0;34m:\u001b[0m\u001b[0;34m\u001b[0m\u001b[0;34m\u001b[0m\u001b[0m\n\u001b[0;32m---\u003e 69\u001b[0;31m             \u001b[0mself\u001b[0m\u001b[0;34m.\u001b[0m\u001b[0m_reader\u001b[0m \u001b[0;34m=\u001b[0m \u001b[0mparsers\u001b[0m\u001b[0;34m.\u001b[0m\u001b[0mTextReader\u001b[0m\u001b[0;34m(\u001b[0m\u001b[0mself\u001b[0m\u001b[0;34m.\u001b[0m\u001b[0mhandles\u001b[0m\u001b[0;34m.\u001b[0m\u001b[0mhandle\u001b[0m\u001b[0;34m,\u001b[0m \u001b[0;34m**\u001b[0m\u001b[0mkwds\u001b[0m\u001b[0;34m)\u001b[0m\u001b[0;34m\u001b[0m\u001b[0;34m\u001b[0m\u001b[0m\n\u001b[0m\u001b[1;32m     70\u001b[0m         \u001b[0;32mexcept\u001b[0m \u001b[0mException\u001b[0m\u001b[0;34m:\u001b[0m\u001b[0;34m\u001b[0m\u001b[0;34m\u001b[0m\u001b[0m\n\u001b[1;32m     71\u001b[0m             \u001b[0mself\u001b[0m\u001b[0;34m.\u001b[0m\u001b[0mhandles\u001b[0m\u001b[0;34m.\u001b[0m\u001b[0mclose\u001b[0m\u001b[0;34m(\u001b[0m\u001b[0;34m)\u001b[0m\u001b[0;34m\u001b[0m\u001b[0;34m\u001b[0m\u001b[0m\n",
                        "\u001b[0;32m/usr/lib/python3.9/site-packages/pandas/_libs/parsers.pyx\u001b[0m in \u001b[0;36mpandas._libs.parsers.TextReader.__cinit__\u001b[0;34m()\u001b[0m\n",
                        "\u001b[0;32m/usr/lib/python3.9/site-packages/pandas/_libs/parsers.pyx\u001b[0m in \u001b[0;36mpandas._libs.parsers.TextReader._get_header\u001b[0;34m()\u001b[0m\n",
                        "\u001b[0;32m/usr/lib/python3.9/site-packages/pandas/_libs/parsers.pyx\u001b[0m in \u001b[0;36mpandas._libs.parsers.TextReader._tokenize_rows\u001b[0;34m()\u001b[0m\n",
                        "\u001b[0;32m/usr/lib/python3.9/site-packages/pandas/_libs/parsers.pyx\u001b[0m in \u001b[0;36mpandas._libs.parsers.raise_parser_error\u001b[0;34m()\u001b[0m\n",
                        "\u001b[0;31mUnicodeDecodeError\u001b[0m: 'utf-8' codec can't decode byte 0xeb in position 14: invalid continuation byte"
                    ]
                }
            ],
            "source": [
                "df = pd.read_csv('cleanedfile.csv')"
            ]
        },
        {
            "attachments": {},
            "cell_type": "markdown",
            "metadata": {},
            "source": [
                "2. Display columns and describe the data set"
            ]
        },
        {
            "cell_type": "code",
            "execution_count": 7,
            "metadata": {},
            "outputs": [
                {
                    "name": "stdout",
                    "output_type": "stream",
                    "text": "\u003cclass 'pandas.core.frame.DataFrame'\u003e\nRangeIndex: 233 entries, 0 to 232\nData columns (total 46 columns):\n #   Column    Non-Null Count  Dtype  \n---  ------    --------------  -----  \n 0   Abkhazia  233 non-null    object \n 1   NA        155 non-null    float64\n 2   NA.1      155 non-null    float64\n 3   NA.2      155 non-null    float64\n 4   NA.3      155 non-null    float64\n 5   NA.4      155 non-null    float64\n 6   NA.5      155 non-null    float64\n 7   NA.6      155 non-null    float64\n 8   NA.7      155 non-null    float64\n 9   NA.8      155 non-null    float64\n 10  NA.9      155 non-null    float64\n 11  NA.10     155 non-null    float64\n 12  NA.11     155 non-null    float64\n 13  NA.12     155 non-null    float64\n 14  NA.13     155 non-null    float64\n 15  NA.14     155 non-null    float64\n 16  NA.15     155 non-null    float64\n 17  NA.16     155 non-null    float64\n 18  NA.17     155 non-null    float64\n 19  NA.18     155 non-null    float64\n 20  NA.19     155 non-null    float64\n 21  NA.20     155 non-null    float64\n 22  NA.21     155 non-null    float64\n 23  NA.22     155 non-null    float64\n 24  NA.23     155 non-null    float64\n 25  NA.24     155 non-null    float64\n 26  NA.25     155 non-null    float64\n 27  NA.26     155 non-null    float64\n 28  NA.27     155 non-null    float64\n 29  NA.28     155 non-null    float64\n 30  NA.29     155 non-null    float64\n 31  NA.30     155 non-null    float64\n 32  NA.31     173 non-null    float64\n 33  NA.32     174 non-null    float64\n 34  NA.33     174 non-null    float64\n 35  NA.34     174 non-null    float64\n 36  NA.35     175 non-null    float64\n 37  NA.36     175 non-null    float64\n 38  NA.37     175 non-null    float64\n 39  NA.38     175 non-null    float64\n 40  NA.39     175 non-null    float64\n 41  NA.40     175 non-null    float64\n 42  NA.41     175 non-null    float64\n 43  NA.42     175 non-null    float64\n 44  NA.43     175 non-null    float64\n 45  NA.44     0 non-null      float64\ndtypes: float64(45), object(1)\nmemory usage: 83.9+ KB\n"
                }
            ],
            "source": [
                "df.info()"
            ]
        },
        {
            "cell_type": "code",
            "execution_count": 8,
            "metadata": {},
            "outputs": [
                {
                    "data": {
                        "text/html": "\u003cdiv\u003e\n\u003cstyle scoped\u003e\n    .dataframe tbody tr th:only-of-type {\n        vertical-align: middle;\n    }\n\n    .dataframe tbody tr th {\n        vertical-align: top;\n    }\n\n    .dataframe thead th {\n        text-align: right;\n    }\n\u003c/style\u003e\n\u003ctable border=\"1\" class=\"dataframe\"\u003e\n  \u003cthead\u003e\n    \u003ctr style=\"text-align: right;\"\u003e\n      \u003cth\u003e\u003c/th\u003e\n      \u003cth\u003eNA\u003c/th\u003e\n      \u003cth\u003eNA.1\u003c/th\u003e\n      \u003cth\u003eNA.2\u003c/th\u003e\n      \u003cth\u003eNA.3\u003c/th\u003e\n      \u003cth\u003eNA.4\u003c/th\u003e\n      \u003cth\u003eNA.5\u003c/th\u003e\n      \u003cth\u003eNA.6\u003c/th\u003e\n      \u003cth\u003eNA.7\u003c/th\u003e\n      \u003cth\u003eNA.8\u003c/th\u003e\n      \u003cth\u003eNA.9\u003c/th\u003e\n      \u003cth\u003e...\u003c/th\u003e\n      \u003cth\u003eNA.35\u003c/th\u003e\n      \u003cth\u003eNA.36\u003c/th\u003e\n      \u003cth\u003eNA.37\u003c/th\u003e\n      \u003cth\u003eNA.38\u003c/th\u003e\n      \u003cth\u003eNA.39\u003c/th\u003e\n      \u003cth\u003eNA.40\u003c/th\u003e\n      \u003cth\u003eNA.41\u003c/th\u003e\n      \u003cth\u003eNA.42\u003c/th\u003e\n      \u003cth\u003eNA.43\u003c/th\u003e\n      \u003cth\u003eNA.44\u003c/th\u003e\n    \u003c/tr\u003e\n  \u003c/thead\u003e\n  \u003ctbody\u003e\n    \u003ctr\u003e\n      \u003cth\u003ecount\u003c/th\u003e\n      \u003ctd\u003e155.000000\u003c/td\u003e\n      \u003ctd\u003e155.000000\u003c/td\u003e\n      \u003ctd\u003e155.000000\u003c/td\u003e\n      \u003ctd\u003e155.000000\u003c/td\u003e\n      \u003ctd\u003e155.000000\u003c/td\u003e\n      \u003ctd\u003e155.000000\u003c/td\u003e\n      \u003ctd\u003e155.000000\u003c/td\u003e\n      \u003ctd\u003e155.000000\u003c/td\u003e\n      \u003ctd\u003e155.000000\u003c/td\u003e\n      \u003ctd\u003e155.000000\u003c/td\u003e\n      \u003ctd\u003e...\u003c/td\u003e\n      \u003ctd\u003e175.000000\u003c/td\u003e\n      \u003ctd\u003e175.00000\u003c/td\u003e\n      \u003ctd\u003e175.000000\u003c/td\u003e\n      \u003ctd\u003e175.000000\u003c/td\u003e\n      \u003ctd\u003e175.000000\u003c/td\u003e\n      \u003ctd\u003e175.000000\u003c/td\u003e\n      \u003ctd\u003e175.000000\u003c/td\u003e\n      \u003ctd\u003e175.000000\u003c/td\u003e\n      \u003ctd\u003e175.000000\u003c/td\u003e\n      \u003ctd\u003e0.0\u003c/td\u003e\n    \u003c/tr\u003e\n    \u003ctr\u003e\n      \u003cth\u003emean\u003c/th\u003e\n      \u003ctd\u003e60.416387\u003c/td\u003e\n      \u003ctd\u003e62.148452\u003c/td\u003e\n      \u003ctd\u003e61.671226\u003c/td\u003e\n      \u003ctd\u003e62.926065\u003c/td\u003e\n      \u003ctd\u003e65.383226\u003c/td\u003e\n      \u003ctd\u003e66.479032\u003c/td\u003e\n      \u003ctd\u003e67.415871\u003c/td\u003e\n      \u003ctd\u003e68.759419\u003c/td\u003e\n      \u003ctd\u003e69.820129\u003c/td\u003e\n      \u003ctd\u003e71.181032\u003c/td\u003e\n      \u003ctd\u003e...\u003c/td\u003e\n      \u003ctd\u003e78.184743\u003c/td\u003e\n      \u003ctd\u003e78.99880\u003c/td\u003e\n      \u003ctd\u003e78.826514\u003c/td\u003e\n      \u003ctd\u003e79.045657\u003c/td\u003e\n      \u003ctd\u003e80.423486\u003c/td\u003e\n      \u003ctd\u003e80.767829\u003c/td\u003e\n      \u003ctd\u003e81.456629\u003c/td\u003e\n      \u003ctd\u003e81.988857\u003c/td\u003e\n      \u003ctd\u003e81.988857\u003c/td\u003e\n      \u003ctd\u003eNaN\u003c/td\u003e\n    \u003c/tr\u003e\n    \u003ctr\u003e\n      \u003cth\u003estd\u003c/th\u003e\n      \u003ctd\u003e43.454472\u003c/td\u003e\n      \u003ctd\u003e43.282468\u003c/td\u003e\n      \u003ctd\u003e42.884866\u003c/td\u003e\n      \u003ctd\u003e43.304642\u003c/td\u003e\n      \u003ctd\u003e43.306488\u003c/td\u003e\n      \u003ctd\u003e43.841249\u003c/td\u003e\n      \u003ctd\u003e43.376703\u003c/td\u003e\n      \u003ctd\u003e43.526214\u003c/td\u003e\n      \u003ctd\u003e43.740182\u003c/td\u003e\n      \u003ctd\u003e44.009240\u003c/td\u003e\n      \u003ctd\u003e...\u003c/td\u003e\n      \u003ctd\u003e44.808377\u003c/td\u003e\n      \u003ctd\u003e45.29701\u003c/td\u003e\n      \u003ctd\u003e44.558949\u003c/td\u003e\n      \u003ctd\u003e44.657394\u003c/td\u003e\n      \u003ctd\u003e45.510953\u003c/td\u003e\n      \u003ctd\u003e45.458435\u003c/td\u003e\n      \u003ctd\u003e45.472917\u003c/td\u003e\n      \u003ctd\u003e45.338721\u003c/td\u003e\n      \u003ctd\u003e45.338721\u003c/td\u003e\n      \u003ctd\u003eNaN\u003c/td\u003e\n    \u003c/tr\u003e\n    \u003ctr\u003e\n      \u003cth\u003emin\u003c/th\u003e\n      \u003ctd\u003e0.000000\u003c/td\u003e\n      \u003ctd\u003e0.000000\u003c/td\u003e\n      \u003ctd\u003e0.000000\u003c/td\u003e\n      \u003ctd\u003e0.000000\u003c/td\u003e\n      \u003ctd\u003e0.000000\u003c/td\u003e\n      \u003ctd\u003e0.000000\u003c/td\u003e\n      \u003ctd\u003e0.000000\u003c/td\u003e\n      \u003ctd\u003e0.000000\u003c/td\u003e\n      \u003ctd\u003e0.000000\u003c/td\u003e\n      \u003ctd\u003e0.000000\u003c/td\u003e\n      \u003ctd\u003e...\u003c/td\u003e\n      \u003ctd\u003e5.480000\u003c/td\u003e\n      \u003ctd\u003e2.74000\u003c/td\u003e\n      \u003ctd\u003e5.480000\u003c/td\u003e\n      \u003ctd\u003e5.480000\u003c/td\u003e\n      \u003ctd\u003e2.740000\u003c/td\u003e\n      \u003ctd\u003e5.480000\u003c/td\u003e\n      \u003ctd\u003e5.480000\u003c/td\u003e\n      \u003ctd\u003e5.480000\u003c/td\u003e\n      \u003ctd\u003e5.480000\u003c/td\u003e\n      \u003ctd\u003eNaN\u003c/td\u003e\n    \u003c/tr\u003e\n    \u003ctr\u003e\n      \u003cth\u003e25%\u003c/th\u003e\n      \u003ctd\u003e23.290000\u003c/td\u003e\n      \u003ctd\u003e24.660000\u003c/td\u003e\n      \u003ctd\u003e24.660000\u003c/td\u003e\n      \u003ctd\u003e26.030000\u003c/td\u003e\n      \u003ctd\u003e30.140000\u003c/td\u003e\n      \u003ctd\u003e27.400000\u003c/td\u003e\n      \u003ctd\u003e30.140000\u003c/td\u003e\n      \u003ctd\u003e32.880000\u003c/td\u003e\n      \u003ctd\u003e30.140000\u003c/td\u003e\n      \u003ctd\u003e32.880000\u003c/td\u003e\n      \u003ctd\u003e...\u003c/td\u003e\n      \u003ctd\u003e39.730000\u003c/td\u003e\n      \u003ctd\u003e38.36000\u003c/td\u003e\n      \u003ctd\u003e38.360000\u003c/td\u003e\n      \u003ctd\u003e38.360000\u003c/td\u003e\n      \u003ctd\u003e39.730000\u003c/td\u003e\n      \u003ctd\u003e38.360000\u003c/td\u003e\n      \u003ctd\u003e38.360000\u003c/td\u003e\n      \u003ctd\u003e39.730000\u003c/td\u003e\n      \u003ctd\u003e39.730000\u003c/td\u003e\n      \u003ctd\u003eNaN\u003c/td\u003e\n    \u003c/tr\u003e\n    \u003ctr\u003e\n      \u003cth\u003e50%\u003c/th\u003e\n      \u003ctd\u003e54.800000\u003c/td\u003e\n      \u003ctd\u003e60.270000\u003c/td\u003e\n      \u003ctd\u003e60.270000\u003c/td\u003e\n      \u003ctd\u003e60.270000\u003c/td\u003e\n      \u003ctd\u003e68.490000\u003c/td\u003e\n      \u003ctd\u003e71.230000\u003c/td\u003e\n      \u003ctd\u003e71.230000\u003c/td\u003e\n      \u003ctd\u003e71.230000\u003c/td\u003e\n      \u003ctd\u003e73.970000\u003c/td\u003e\n      \u003ctd\u003e76.710000\u003c/td\u003e\n      \u003ctd\u003e...\u003c/td\u003e\n      \u003ctd\u003e84.930000\u003c/td\u003e\n      \u003ctd\u003e82.19000\u003c/td\u003e\n      \u003ctd\u003e82.190000\u003c/td\u003e\n      \u003ctd\u003e82.190000\u003c/td\u003e\n      \u003ctd\u003e84.930000\u003c/td\u003e\n      \u003ctd\u003e84.930000\u003c/td\u003e\n      \u003ctd\u003e87.670000\u003c/td\u003e\n      \u003ctd\u003e87.670000\u003c/td\u003e\n      \u003ctd\u003e87.670000\u003c/td\u003e\n      \u003ctd\u003eNaN\u003c/td\u003e\n    \u003c/tr\u003e\n    \u003ctr\u003e\n      \u003cth\u003e75%\u003c/th\u003e\n      \u003ctd\u003e93.150000\u003c/td\u003e\n      \u003ctd\u003e94.520000\u003c/td\u003e\n      \u003ctd\u003e93.150000\u003c/td\u003e\n      \u003ctd\u003e95.890000\u003c/td\u003e\n      \u003ctd\u003e97.260000\u003c/td\u003e\n      \u003ctd\u003e98.630000\u003c/td\u003e\n      \u003ctd\u003e101.370000\u003c/td\u003e\n      \u003ctd\u003e104.110000\u003c/td\u003e\n      \u003ctd\u003e104.110000\u003c/td\u003e\n      \u003ctd\u003e106.850000\u003c/td\u003e\n      \u003ctd\u003e...\u003c/td\u003e\n      \u003ctd\u003e109.590000\u003c/td\u003e\n      \u003ctd\u003e112.33000\u003c/td\u003e\n      \u003ctd\u003e109.590000\u003c/td\u003e\n      \u003ctd\u003e112.330000\u003c/td\u003e\n      \u003ctd\u003e115.070000\u003c/td\u003e\n      \u003ctd\u003e115.070000\u003c/td\u003e\n      \u003ctd\u003e115.070000\u003c/td\u003e\n      \u003ctd\u003e113.700000\u003c/td\u003e\n      \u003ctd\u003e113.700000\u003c/td\u003e\n      \u003ctd\u003eNaN\u003c/td\u003e\n    \u003c/tr\u003e\n    \u003ctr\u003e\n      \u003cth\u003emax\u003c/th\u003e\n      \u003ctd\u003e161.640000\u003c/td\u003e\n      \u003ctd\u003e164.380000\u003c/td\u003e\n      \u003ctd\u003e169.860000\u003c/td\u003e\n      \u003ctd\u003e164.380000\u003c/td\u003e\n      \u003ctd\u003e164.380000\u003c/td\u003e\n      \u003ctd\u003e183.560000\u003c/td\u003e\n      \u003ctd\u003e169.860000\u003c/td\u003e\n      \u003ctd\u003e164.380000\u003c/td\u003e\n      \u003ctd\u003e156.160000\u003c/td\u003e\n      \u003ctd\u003e156.160000\u003c/td\u003e\n      \u003ctd\u003e...\u003c/td\u003e\n      \u003ctd\u003e186.300000\u003c/td\u003e\n      \u003ctd\u003e194.52000\u003c/td\u003e\n      \u003ctd\u003e194.520000\u003c/td\u003e\n      \u003ctd\u003e189.040000\u003c/td\u003e\n      \u003ctd\u003e194.520000\u003c/td\u003e\n      \u003ctd\u003e194.520000\u003c/td\u003e\n      \u003ctd\u003e194.520000\u003c/td\u003e\n      \u003ctd\u003e191.780000\u003c/td\u003e\n      \u003ctd\u003e191.780000\u003c/td\u003e\n      \u003ctd\u003eNaN\u003c/td\u003e\n    \u003c/tr\u003e\n  \u003c/tbody\u003e\n\u003c/table\u003e\n\u003cp\u003e8 rows × 45 columns\u003c/p\u003e\n\u003c/div\u003e",
                        "text/plain": "               NA        NA.1        NA.2        NA.3        NA.4        NA.5  \\\ncount  155.000000  155.000000  155.000000  155.000000  155.000000  155.000000   \nmean    60.416387   62.148452   61.671226   62.926065   65.383226   66.479032   \nstd     43.454472   43.282468   42.884866   43.304642   43.306488   43.841249   \nmin      0.000000    0.000000    0.000000    0.000000    0.000000    0.000000   \n25%     23.290000   24.660000   24.660000   26.030000   30.140000   27.400000   \n50%     54.800000   60.270000   60.270000   60.270000   68.490000   71.230000   \n75%     93.150000   94.520000   93.150000   95.890000   97.260000   98.630000   \nmax    161.640000  164.380000  169.860000  164.380000  164.380000  183.560000   \n\n             NA.6        NA.7        NA.8        NA.9  ...       NA.35  \\\ncount  155.000000  155.000000  155.000000  155.000000  ...  175.000000   \nmean    67.415871   68.759419   69.820129   71.181032  ...   78.184743   \nstd     43.376703   43.526214   43.740182   44.009240  ...   44.808377   \nmin      0.000000    0.000000    0.000000    0.000000  ...    5.480000   \n25%     30.140000   32.880000   30.140000   32.880000  ...   39.730000   \n50%     71.230000   71.230000   73.970000   76.710000  ...   84.930000   \n75%    101.370000  104.110000  104.110000  106.850000  ...  109.590000   \nmax    169.860000  164.380000  156.160000  156.160000  ...  186.300000   \n\n           NA.36       NA.37       NA.38       NA.39       NA.40       NA.41  \\\ncount  175.00000  175.000000  175.000000  175.000000  175.000000  175.000000   \nmean    78.99880   78.826514   79.045657   80.423486   80.767829   81.456629   \nstd     45.29701   44.558949   44.657394   45.510953   45.458435   45.472917   \nmin      2.74000    5.480000    5.480000    2.740000    5.480000    5.480000   \n25%     38.36000   38.360000   38.360000   39.730000   38.360000   38.360000   \n50%     82.19000   82.190000   82.190000   84.930000   84.930000   87.670000   \n75%    112.33000  109.590000  112.330000  115.070000  115.070000  115.070000   \nmax    194.52000  194.520000  189.040000  194.520000  194.520000  194.520000   \n\n            NA.42       NA.43  NA.44  \ncount  175.000000  175.000000    0.0  \nmean    81.988857   81.988857    NaN  \nstd     45.338721   45.338721    NaN  \nmin      5.480000    5.480000    NaN  \n25%     39.730000   39.730000    NaN  \n50%     87.670000   87.670000    NaN  \n75%    113.700000  113.700000    NaN  \nmax    191.780000  191.780000    NaN  \n\n[8 rows x 45 columns]"
                    },
                    "execution_count": 8,
                    "metadata": {},
                    "output_type": "execute_result"
                }
            ],
            "source": [
                "df.describe()"
            ]
        },
        {
            "attachments": {},
            "cell_type": "markdown",
            "metadata": {},
            "source": [
                "3. Prepare Data"
            ]
        },
        {
            "cell_type": "code",
            "execution_count": 9,
            "metadata": {},
            "outputs": [
                {
                    "ename": "KeyError",
                    "evalue": "\"['COLUMNNAME'] not found in axis\"",
                    "output_type": "error",
                    "traceback": [
                        "\u001b[0;31m---------------------------------------------------------------------------\u001b[0m",
                        "\u001b[0;31mKeyError\u001b[0m                                  Traceback (most recent call last)",
                        "\u001b[0;32m/tmp/ipykernel_156/4114535801.py\u001b[0m in \u001b[0;36m\u003cmodule\u003e\u001b[0;34m\u001b[0m\n\u001b[1;32m      1\u001b[0m \u001b[0;31m# Run this section to inspect X\u001b[0m\u001b[0;34m\u001b[0m\u001b[0;34m\u001b[0m\u001b[0m\n\u001b[0;32m----\u003e 2\u001b[0;31m \u001b[0mX\u001b[0m \u001b[0;34m=\u001b[0m \u001b[0mdf\u001b[0m\u001b[0;34m.\u001b[0m\u001b[0mdrop\u001b[0m\u001b[0;34m(\u001b[0m\u001b[0mcolumns\u001b[0m \u001b[0;34m=\u001b[0m \u001b[0;34m[\u001b[0m\u001b[0;34m'COLUMNNAME'\u001b[0m\u001b[0;34m]\u001b[0m\u001b[0;34m)\u001b[0m\u001b[0;34m\u001b[0m\u001b[0;34m\u001b[0m\u001b[0m\n\u001b[0m\u001b[1;32m      3\u001b[0m \u001b[0mX\u001b[0m\u001b[0;34m\u001b[0m\u001b[0;34m\u001b[0m\u001b[0m\n",
                        "\u001b[0;32m/usr/lib/python3.9/site-packages/pandas/util/_decorators.py\u001b[0m in \u001b[0;36mwrapper\u001b[0;34m(*args, **kwargs)\u001b[0m\n\u001b[1;32m    309\u001b[0m                     \u001b[0mstacklevel\u001b[0m\u001b[0;34m=\u001b[0m\u001b[0mstacklevel\u001b[0m\u001b[0;34m,\u001b[0m\u001b[0;34m\u001b[0m\u001b[0;34m\u001b[0m\u001b[0m\n\u001b[1;32m    310\u001b[0m                 )\n\u001b[0;32m--\u003e 311\u001b[0;31m             \u001b[0;32mreturn\u001b[0m \u001b[0mfunc\u001b[0m\u001b[0;34m(\u001b[0m\u001b[0;34m*\u001b[0m\u001b[0margs\u001b[0m\u001b[0;34m,\u001b[0m \u001b[0;34m**\u001b[0m\u001b[0mkwargs\u001b[0m\u001b[0;34m)\u001b[0m\u001b[0;34m\u001b[0m\u001b[0;34m\u001b[0m\u001b[0m\n\u001b[0m\u001b[1;32m    312\u001b[0m \u001b[0;34m\u001b[0m\u001b[0m\n\u001b[1;32m    313\u001b[0m         \u001b[0;32mreturn\u001b[0m \u001b[0mwrapper\u001b[0m\u001b[0;34m\u001b[0m\u001b[0;34m\u001b[0m\u001b[0m\n",
                        "\u001b[0;32m/usr/lib/python3.9/site-packages/pandas/core/frame.py\u001b[0m in \u001b[0;36mdrop\u001b[0;34m(self, labels, axis, index, columns, level, inplace, errors)\u001b[0m\n\u001b[1;32m   4904\u001b[0m                 \u001b[0mweight\u001b[0m  \u001b[0;36m1.0\u001b[0m     \u001b[0;36m0.8\u001b[0m\u001b[0;34m\u001b[0m\u001b[0;34m\u001b[0m\u001b[0m\n\u001b[1;32m   4905\u001b[0m         \"\"\"\n\u001b[0;32m-\u003e 4906\u001b[0;31m         return super().drop(\n\u001b[0m\u001b[1;32m   4907\u001b[0m             \u001b[0mlabels\u001b[0m\u001b[0;34m=\u001b[0m\u001b[0mlabels\u001b[0m\u001b[0;34m,\u001b[0m\u001b[0;34m\u001b[0m\u001b[0;34m\u001b[0m\u001b[0m\n\u001b[1;32m   4908\u001b[0m             \u001b[0maxis\u001b[0m\u001b[0;34m=\u001b[0m\u001b[0maxis\u001b[0m\u001b[0;34m,\u001b[0m\u001b[0;34m\u001b[0m\u001b[0;34m\u001b[0m\u001b[0m\n",
                        "\u001b[0;32m/usr/lib/python3.9/site-packages/pandas/core/generic.py\u001b[0m in \u001b[0;36mdrop\u001b[0;34m(self, labels, axis, index, columns, level, inplace, errors)\u001b[0m\n\u001b[1;32m   4148\u001b[0m         \u001b[0;32mfor\u001b[0m \u001b[0maxis\u001b[0m\u001b[0;34m,\u001b[0m \u001b[0mlabels\u001b[0m \u001b[0;32min\u001b[0m \u001b[0maxes\u001b[0m\u001b[0;34m.\u001b[0m\u001b[0mitems\u001b[0m\u001b[0;34m(\u001b[0m\u001b[0;34m)\u001b[0m\u001b[0;34m:\u001b[0m\u001b[0;34m\u001b[0m\u001b[0;34m\u001b[0m\u001b[0m\n\u001b[1;32m   4149\u001b[0m             \u001b[0;32mif\u001b[0m \u001b[0mlabels\u001b[0m \u001b[0;32mis\u001b[0m \u001b[0;32mnot\u001b[0m \u001b[0;32mNone\u001b[0m\u001b[0;34m:\u001b[0m\u001b[0;34m\u001b[0m\u001b[0;34m\u001b[0m\u001b[0m\n\u001b[0;32m-\u003e 4150\u001b[0;31m                 \u001b[0mobj\u001b[0m \u001b[0;34m=\u001b[0m \u001b[0mobj\u001b[0m\u001b[0;34m.\u001b[0m\u001b[0m_drop_axis\u001b[0m\u001b[0;34m(\u001b[0m\u001b[0mlabels\u001b[0m\u001b[0;34m,\u001b[0m \u001b[0maxis\u001b[0m\u001b[0;34m,\u001b[0m \u001b[0mlevel\u001b[0m\u001b[0;34m=\u001b[0m\u001b[0mlevel\u001b[0m\u001b[0;34m,\u001b[0m \u001b[0merrors\u001b[0m\u001b[0;34m=\u001b[0m\u001b[0merrors\u001b[0m\u001b[0;34m)\u001b[0m\u001b[0;34m\u001b[0m\u001b[0;34m\u001b[0m\u001b[0m\n\u001b[0m\u001b[1;32m   4151\u001b[0m \u001b[0;34m\u001b[0m\u001b[0m\n\u001b[1;32m   4152\u001b[0m         \u001b[0;32mif\u001b[0m \u001b[0minplace\u001b[0m\u001b[0;34m:\u001b[0m\u001b[0;34m\u001b[0m\u001b[0;34m\u001b[0m\u001b[0m\n",
                        "\u001b[0;32m/usr/lib/python3.9/site-packages/pandas/core/generic.py\u001b[0m in \u001b[0;36m_drop_axis\u001b[0;34m(self, labels, axis, level, errors)\u001b[0m\n\u001b[1;32m   4183\u001b[0m                 \u001b[0mnew_axis\u001b[0m \u001b[0;34m=\u001b[0m \u001b[0maxis\u001b[0m\u001b[0;34m.\u001b[0m\u001b[0mdrop\u001b[0m\u001b[0;34m(\u001b[0m\u001b[0mlabels\u001b[0m\u001b[0;34m,\u001b[0m \u001b[0mlevel\u001b[0m\u001b[0;34m=\u001b[0m\u001b[0mlevel\u001b[0m\u001b[0;34m,\u001b[0m \u001b[0merrors\u001b[0m\u001b[0;34m=\u001b[0m\u001b[0merrors\u001b[0m\u001b[0;34m)\u001b[0m\u001b[0;34m\u001b[0m\u001b[0;34m\u001b[0m\u001b[0m\n\u001b[1;32m   4184\u001b[0m             \u001b[0;32melse\u001b[0m\u001b[0;34m:\u001b[0m\u001b[0;34m\u001b[0m\u001b[0;34m\u001b[0m\u001b[0m\n\u001b[0;32m-\u003e 4185\u001b[0;31m                 \u001b[0mnew_axis\u001b[0m \u001b[0;34m=\u001b[0m \u001b[0maxis\u001b[0m\u001b[0;34m.\u001b[0m\u001b[0mdrop\u001b[0m\u001b[0;34m(\u001b[0m\u001b[0mlabels\u001b[0m\u001b[0;34m,\u001b[0m \u001b[0merrors\u001b[0m\u001b[0;34m=\u001b[0m\u001b[0merrors\u001b[0m\u001b[0;34m)\u001b[0m\u001b[0;34m\u001b[0m\u001b[0;34m\u001b[0m\u001b[0m\n\u001b[0m\u001b[1;32m   4186\u001b[0m             \u001b[0mresult\u001b[0m \u001b[0;34m=\u001b[0m \u001b[0mself\u001b[0m\u001b[0;34m.\u001b[0m\u001b[0mreindex\u001b[0m\u001b[0;34m(\u001b[0m\u001b[0;34m**\u001b[0m\u001b[0;34m{\u001b[0m\u001b[0maxis_name\u001b[0m\u001b[0;34m:\u001b[0m \u001b[0mnew_axis\u001b[0m\u001b[0;34m}\u001b[0m\u001b[0;34m)\u001b[0m\u001b[0;34m\u001b[0m\u001b[0;34m\u001b[0m\u001b[0m\n\u001b[1;32m   4187\u001b[0m \u001b[0;34m\u001b[0m\u001b[0m\n",
                        "\u001b[0;32m/usr/lib/python3.9/site-packages/pandas/core/indexes/base.py\u001b[0m in \u001b[0;36mdrop\u001b[0;34m(self, labels, errors)\u001b[0m\n\u001b[1;32m   6015\u001b[0m         \u001b[0;32mif\u001b[0m \u001b[0mmask\u001b[0m\u001b[0;34m.\u001b[0m\u001b[0many\u001b[0m\u001b[0;34m(\u001b[0m\u001b[0;34m)\u001b[0m\u001b[0;34m:\u001b[0m\u001b[0;34m\u001b[0m\u001b[0;34m\u001b[0m\u001b[0m\n\u001b[1;32m   6016\u001b[0m             \u001b[0;32mif\u001b[0m \u001b[0merrors\u001b[0m \u001b[0;34m!=\u001b[0m \u001b[0;34m\"ignore\"\u001b[0m\u001b[0;34m:\u001b[0m\u001b[0;34m\u001b[0m\u001b[0;34m\u001b[0m\u001b[0m\n\u001b[0;32m-\u003e 6017\u001b[0;31m                 \u001b[0;32mraise\u001b[0m \u001b[0mKeyError\u001b[0m\u001b[0;34m(\u001b[0m\u001b[0;34mf\"{labels[mask]} not found in axis\"\u001b[0m\u001b[0;34m)\u001b[0m\u001b[0;34m\u001b[0m\u001b[0;34m\u001b[0m\u001b[0m\n\u001b[0m\u001b[1;32m   6018\u001b[0m             \u001b[0mindexer\u001b[0m \u001b[0;34m=\u001b[0m \u001b[0mindexer\u001b[0m\u001b[0;34m[\u001b[0m\u001b[0;34m~\u001b[0m\u001b[0mmask\u001b[0m\u001b[0;34m]\u001b[0m\u001b[0;34m\u001b[0m\u001b[0;34m\u001b[0m\u001b[0m\n\u001b[1;32m   6019\u001b[0m         \u001b[0;32mreturn\u001b[0m \u001b[0mself\u001b[0m\u001b[0;34m.\u001b[0m\u001b[0mdelete\u001b[0m\u001b[0;34m(\u001b[0m\u001b[0mindexer\u001b[0m\u001b[0;34m)\u001b[0m\u001b[0;34m\u001b[0m\u001b[0;34m\u001b[0m\u001b[0m\n",
                        "\u001b[0;31mKeyError\u001b[0m: \"['COLUMNNAME'] not found in axis\""
                    ]
                }
            ],
            "source": [
                "# Run this section to inspect X\n",
                "X = df.drop(columns = ['COLUMNNAME'])\n",
                "X"
            ]
        },
        {
            "cell_type": "code",
            "execution_count": 0,
            "metadata": {},
            "outputs": [],
            "source": [
                "# Uncomment this section to inpect y\n",
                "y = df['COLUMNNAME']\n",
                "y"
            ]
        },
        {
            "attachments": {},
            "cell_type": "markdown",
            "metadata": {},
            "source": [
                "4. Calculate accuracy"
            ]
        },
        {
            "cell_type": "code",
            "execution_count": 5,
            "metadata": {},
            "outputs": [],
            "source": [
                "# Train 80% of the data set and use the rest to test\n",
                "X_train, X_test, y_train, y_test = train_test_split(\n",
                "                                    X, y, test_size=0.2)\n",
                "\n",
                "model = DecisionTreeClassifier()\n",
                "model.fit(X_train, y_train)\n",
                "predictions = model.predict(X_test)\n",
                "\n",
                "# Compute model accuracy\n",
                "score = accuracy_score(y_test, predictions)\n",
                "score"
            ]
        },
        {
            "attachments": {},
            "cell_type": "markdown",
            "metadata": {},
            "source": [
                "5. Persisting Models"
            ]
        },
        {
            "cell_type": "code",
            "execution_count": 6,
            "metadata": {},
            "outputs": [],
            "source": [
                "# Save the model to file\n",
                "joblib.dump(model, 'MODELNAME.joblib')\n",
                ""
            ]
        },
        {
            "attachments": {},
            "cell_type": "markdown",
            "metadata": {},
            "source": [
                "5.b. Import the model and make predictions"
            ]
        },
        {
            "cell_type": "code",
            "execution_count": 7,
            "metadata": {},
            "outputs": [],
            "source": [
                "# Load saved model. Make sure that you have run the previous\n",
                "# section at least once, and that the file exists.\n",
                "\n",
                "model = joblib.load('MODELNAME.joblib')\n",
                "predictions = model.predict(X_test)\n",
                "predictions"
            ]
        },
        {
            "attachments": {},
            "cell_type": "markdown",
            "metadata": {},
            "source": [
                "6. (Optional) Visualize decision trees"
            ]
        },
        {
            "cell_type": "code",
            "execution_count": 8,
            "metadata": {},
            "outputs": [],
            "source": [
                "tree.export_graphviz(model, out_file = 'MODELNAME.dot',\n",
                "                    feature_names = X.columns, \n",
                "                    class_names = str(sorted(y.unique())), \n",
                "                    label = 'all',\n",
                "                    rounded = True, \n",
                "                    filled = True)\n",
                "\n",
                "#Download the file music-recommender.dot and open it in VS Code.\n",
                ""
            ]
        }
    ]
}
